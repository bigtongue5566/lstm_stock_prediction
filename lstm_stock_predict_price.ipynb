{
 "cells": [
  {
   "cell_type": "code",
   "execution_count": 16,
   "metadata": {
    "colab": {},
    "colab_type": "code",
    "id": "fIKrighNZL1m"
   },
   "outputs": [],
   "source": [
    "import requests\n",
    "import pandas as pd\n",
    "from io import StringIO\n",
    "import datetime\n",
    "import time\n",
    "import numpy as np"
   ]
  },
  {
   "cell_type": "markdown",
   "metadata": {
    "colab_type": "text",
    "id": "afilJyhcZRK6"
   },
   "source": [
    "## 讀取台股股價資料"
   ]
  },
  {
   "cell_type": "code",
   "execution_count": 3,
   "metadata": {
    "colab": {},
    "colab_type": "code",
    "id": "FF1nmLkCdwvg"
   },
   "outputs": [],
   "source": [
    "def get_year_month_str_from(year,month):\n",
    "  year_month_arr = []\n",
    "  today=datetime.datetime.today()\n",
    "  while True:\n",
    "    year_month_arr.append('%d%02d01' % (year,month))\n",
    "    if year == today.year and month == today.month:\n",
    "      break\n",
    "    if month == 12:\n",
    "      year += 1\n",
    "      month = 1\n",
    "    else:\n",
    "      month += 1\n",
    "  return year_month_arr"
   ]
  },
  {
   "cell_type": "code",
   "execution_count": 4,
   "metadata": {
    "colab": {},
    "colab_type": "code",
    "id": "3QnDKEw7euag"
   },
   "outputs": [],
   "source": [
    "year_month_str = get_year_month_str_from(2017,1)"
   ]
  },
  {
   "cell_type": "code",
   "execution_count": 5,
   "metadata": {
    "colab": {},
    "colab_type": "code",
    "id": "PhBn2qDSkTYH"
   },
   "outputs": [],
   "source": [
    "def transform_date(date):   #民國轉西元\n",
    "        y, m, d = date.split('/')\n",
    "        return str(int(y)+1911) + '/' + m  + '/' + d\n",
    "    \n",
    "def transform_value(data):   #將證交所獲得資料進行資料格式轉換\n",
    "    data[0] = datetime.datetime.strptime(transform_date(data[0]), '%Y/%m/%d')\n",
    "    data[1] = int(data[1].replace(',', ''))#把千進位的逗點去除\n",
    "    data[2] = int(data[2].replace(',', ''))\n",
    "    data[3] = float(data[3].replace(',', ''))\n",
    "    data[4] = float(data[4].replace(',', ''))\n",
    "    data[5] = float(data[5].replace(',', ''))\n",
    "    data[6] = float(data[6].replace(',', ''))\n",
    "    data[7] = float(0.0 if data[7].replace(',', '') == 'X0.00' else data[7].replace(',', ''))  # +/-/X表示漲/跌/不比價\n",
    "    data[8] = int(data[8].replace(',', ''))\n",
    "    return data\n",
    "def transform(data):   #讀取每一個元素進行資料格式轉換，再產生新的串列\n",
    "    return [transform_value(d) for d in data]"
   ]
  },
  {
   "cell_type": "code",
   "execution_count": 6,
   "metadata": {
    "colab": {},
    "colab_type": "code",
    "id": "0atiwTpXNgbi"
   },
   "outputs": [],
   "source": [
    "STOCK_NO='2330'"
   ]
  },
  {
   "cell_type": "code",
   "execution_count": 7,
   "metadata": {
    "colab": {},
    "colab_type": "code",
    "id": "Fa063x5UfIDY"
   },
   "outputs": [],
   "source": [
    "df = pd.DataFrame()\n",
    "for datetimeStr in year_month_str:\n",
    "  url = \"http://www.twse.com.tw/exchangeReport/STOCK_DAY\"\n",
    "  params = {}\n",
    "  params['stockNo'] = STOCK_NO\n",
    "  params['date'] = datetimeStr\n",
    "  r = requests.get(url, params=params)\n",
    "  df = df.append(pd.DataFrame(transform(r.json()['data']),columns=r.json()['fields']),ignore_index = True)\n",
    "  time.sleep(3)"
   ]
  },
  {
   "cell_type": "code",
   "execution_count": 29,
   "metadata": {
    "colab": {
     "base_uri": "https://localhost:8080/",
     "height": 1000
    },
    "colab_type": "code",
    "executionInfo": {
     "elapsed": 611,
     "status": "ok",
     "timestamp": 1568101672075,
     "user": {
      "displayName": "洪政緯",
      "photoUrl": "https://lh3.googleusercontent.com/a-/AAuE7mBNx-7UCEMQP_ghX8wFGiCe141Wxvu86hDIulkC0w=s64",
      "userId": "06577521540559748619"
     },
     "user_tz": -480
    },
    "id": "PMqbv-gDJIlD",
    "outputId": "9990bbee-2d43-4d58-e7e9-34f388be39f6"
   },
   "outputs": [
    {
     "data": {
      "text/html": [
       "<div>\n",
       "<style scoped>\n",
       "    .dataframe tbody tr th:only-of-type {\n",
       "        vertical-align: middle;\n",
       "    }\n",
       "\n",
       "    .dataframe tbody tr th {\n",
       "        vertical-align: top;\n",
       "    }\n",
       "\n",
       "    .dataframe thead th {\n",
       "        text-align: right;\n",
       "    }\n",
       "</style>\n",
       "<table border=\"1\" class=\"dataframe\">\n",
       "  <thead>\n",
       "    <tr style=\"text-align: right;\">\n",
       "      <th></th>\n",
       "      <th>日期</th>\n",
       "      <th>成交股數</th>\n",
       "      <th>成交金額</th>\n",
       "      <th>開盤價</th>\n",
       "      <th>最高價</th>\n",
       "      <th>最低價</th>\n",
       "      <th>收盤價</th>\n",
       "      <th>漲跌價差</th>\n",
       "      <th>成交筆數</th>\n",
       "    </tr>\n",
       "  </thead>\n",
       "  <tbody>\n",
       "    <tr>\n",
       "      <th>0</th>\n",
       "      <td>2017-01-03</td>\n",
       "      <td>23550783</td>\n",
       "      <td>4300648272</td>\n",
       "      <td>181.5</td>\n",
       "      <td>183.5</td>\n",
       "      <td>181.0</td>\n",
       "      <td>183.0</td>\n",
       "      <td>1.5</td>\n",
       "      <td>8743</td>\n",
       "    </tr>\n",
       "    <tr>\n",
       "      <th>1</th>\n",
       "      <td>2017-01-04</td>\n",
       "      <td>24482374</td>\n",
       "      <td>4478699942</td>\n",
       "      <td>183.0</td>\n",
       "      <td>184.0</td>\n",
       "      <td>181.5</td>\n",
       "      <td>183.0</td>\n",
       "      <td>0.0</td>\n",
       "      <td>8476</td>\n",
       "    </tr>\n",
       "    <tr>\n",
       "      <th>2</th>\n",
       "      <td>2017-01-05</td>\n",
       "      <td>21373561</td>\n",
       "      <td>3913389163</td>\n",
       "      <td>182.0</td>\n",
       "      <td>183.5</td>\n",
       "      <td>181.5</td>\n",
       "      <td>183.5</td>\n",
       "      <td>0.5</td>\n",
       "      <td>8297</td>\n",
       "    </tr>\n",
       "    <tr>\n",
       "      <th>3</th>\n",
       "      <td>2017-01-06</td>\n",
       "      <td>23120808</td>\n",
       "      <td>4250912732</td>\n",
       "      <td>184.0</td>\n",
       "      <td>184.5</td>\n",
       "      <td>183.5</td>\n",
       "      <td>184.0</td>\n",
       "      <td>0.5</td>\n",
       "      <td>9659</td>\n",
       "    </tr>\n",
       "    <tr>\n",
       "      <th>4</th>\n",
       "      <td>2017-01-09</td>\n",
       "      <td>18583788</td>\n",
       "      <td>3419409204</td>\n",
       "      <td>184.0</td>\n",
       "      <td>185.0</td>\n",
       "      <td>183.0</td>\n",
       "      <td>184.0</td>\n",
       "      <td>0.0</td>\n",
       "      <td>5759</td>\n",
       "    </tr>\n",
       "  </tbody>\n",
       "</table>\n",
       "</div>"
      ],
      "text/plain": [
       "          日期      成交股數        成交金額    開盤價    最高價    最低價    收盤價  漲跌價差  成交筆數\n",
       "0 2017-01-03  23550783  4300648272  181.5  183.5  181.0  183.0   1.5  8743\n",
       "1 2017-01-04  24482374  4478699942  183.0  184.0  181.5  183.0   0.0  8476\n",
       "2 2017-01-05  21373561  3913389163  182.0  183.5  181.5  183.5   0.5  8297\n",
       "3 2017-01-06  23120808  4250912732  184.0  184.5  183.5  184.0   0.5  9659\n",
       "4 2017-01-09  18583788  3419409204  184.0  185.0  183.0  184.0   0.0  5759"
      ]
     },
     "execution_count": 29,
     "metadata": {},
     "output_type": "execute_result"
    }
   ],
   "source": [
    "df.head()"
   ]
  },
  {
   "cell_type": "markdown",
   "metadata": {},
   "source": [
    "## 選擇開盤價作為輸入"
   ]
  },
  {
   "cell_type": "code",
   "execution_count": 30,
   "metadata": {
    "colab": {
     "base_uri": "https://localhost:8080/",
     "height": 1000
    },
    "colab_type": "code",
    "executionInfo": {
     "elapsed": 721,
     "status": "ok",
     "timestamp": 1568101585703,
     "user": {
      "displayName": "洪政緯",
      "photoUrl": "https://lh3.googleusercontent.com/a-/AAuE7mBNx-7UCEMQP_ghX8wFGiCe141Wxvu86hDIulkC0w=s64",
      "userId": "06577521540559748619"
     },
     "user_tz": -480
    },
    "id": "wpCQfS0q8BMz",
    "outputId": "61ca71d1-e68b-417c-af15-de68ede51d88"
   },
   "outputs": [],
   "source": [
    "dataset = df.loc[:,['開盤價']].values"
   ]
  },
  {
   "cell_type": "code",
   "execution_count": 31,
   "metadata": {},
   "outputs": [
    {
     "name": "stdout",
     "output_type": "stream",
     "text": [
      "528\n"
     ]
    }
   ],
   "source": [
    "train_size = round(len(dataset)*0.8)\n",
    "print(train_size)\n",
    "train = dataset[:train_size]\n",
    "test = dataset[train_size:]"
   ]
  },
  {
   "cell_type": "code",
   "execution_count": 32,
   "metadata": {},
   "outputs": [],
   "source": [
    "# Feature Scaling\n",
    "from sklearn.preprocessing import MinMaxScaler\n",
    "sc = MinMaxScaler(feature_range = (0, 1))\n",
    "training_set_scaled = sc.fit_transform(train)\n",
    "testing_set_scaled = sc.transform(test)"
   ]
  },
  {
   "cell_type": "code",
   "execution_count": 33,
   "metadata": {
    "colab": {},
    "colab_type": "code",
    "id": "eQF7w4Ba_wj3"
   },
   "outputs": [],
   "source": [
    "TIME_STEP = 60"
   ]
  },
  {
   "cell_type": "code",
   "execution_count": 34,
   "metadata": {},
   "outputs": [],
   "source": [
    "X_train = []   #預測點的前 60 天的資料\n",
    "y_train = []   #預測點\n",
    "for i in range(TIME_STEP, train_size):  # 1258 是訓練集總數\n",
    "    X_train.append(training_set_scaled[i-TIME_STEP:i, 0])\n",
    "    y_train.append(training_set_scaled[i, 0])\n",
    "X_train, y_train = np.array(X_train), np.array(y_train)  # 轉成numpy array的格式，以利輸入 RNN"
   ]
  },
  {
   "cell_type": "code",
   "execution_count": 35,
   "metadata": {},
   "outputs": [],
   "source": [
    "X_train = np.reshape(X_train, (X_train.shape[0], X_train.shape[1], 1))"
   ]
  },
  {
   "cell_type": "markdown",
   "metadata": {},
   "source": [
    "## 建立lstm模型"
   ]
  },
  {
   "cell_type": "code",
   "execution_count": 37,
   "metadata": {},
   "outputs": [],
   "source": [
    "# Import the Keras libraries and packages\n",
    "from keras.models import Sequential\n",
    "from keras.layers import Dense\n",
    "from keras.layers import LSTM\n",
    "from keras.layers import Dropout\n",
    "\n",
    "# Initialising the RNN\n",
    "model = Sequential()"
   ]
  },
  {
   "cell_type": "code",
   "execution_count": 38,
   "metadata": {},
   "outputs": [],
   "source": [
    "# Adding the first LSTM layer and some Dropout regularisation\n",
    "model.add(LSTM(units = 50, return_sequences = True, input_shape = (X_train.shape[1], 1)))\n",
    "model.add(Dropout(0.2))\n",
    "\n",
    "# Adding a second LSTM layer and some Dropout regularisation\n",
    "model.add(LSTM(units = 50, return_sequences = True))\n",
    "model.add(Dropout(0.2))\n",
    "\n",
    "# Adding a third LSTM layer and some Dropout regularisation\n",
    "model.add(LSTM(units = 50, return_sequences = True))\n",
    "model.add(Dropout(0.2))\n",
    "\n",
    "# Adding a fourth LSTM layer and some Dropout regularisation\n",
    "model.add(LSTM(units = 50))\n",
    "model.add(Dropout(0.2))\n",
    "\n",
    "model.add(Dense(units = 1))\n",
    "\n",
    "model.compile(optimizer = 'adam', loss = 'mse')"
   ]
  },
  {
   "cell_type": "markdown",
   "metadata": {},
   "source": [
    "## 訓練模型"
   ]
  },
  {
   "cell_type": "code",
   "execution_count": 40,
   "metadata": {},
   "outputs": [
    {
     "name": "stderr",
     "output_type": "stream",
     "text": [
      "W0911 16:24:00.607966 14948 deprecation.py:323] From C:\\Users\\Bigtongue\\Anaconda3\\lib\\site-packages\\tensorflow\\python\\ops\\math_grad.py:1250: add_dispatch_support.<locals>.wrapper (from tensorflow.python.ops.array_ops) is deprecated and will be removed in a future version.\n",
      "Instructions for updating:\n",
      "Use tf.where in 2.0, which has the same broadcast rule as np.where\n",
      "W0911 16:24:02.472002 14948 deprecation_wrapper.py:119] From C:\\Users\\Bigtongue\\Anaconda3\\lib\\site-packages\\keras\\backend\\tensorflow_backend.py:986: The name tf.assign_add is deprecated. Please use tf.compat.v1.assign_add instead.\n",
      "\n"
     ]
    },
    {
     "name": "stdout",
     "output_type": "stream",
     "text": [
      "Epoch 1/100\n",
      "468/468 [==============================] - 6s 13ms/step - loss: 0.1040\n",
      "Epoch 2/100\n",
      "468/468 [==============================] - 2s 5ms/step - loss: 0.0256\n",
      "Epoch 3/100\n",
      "468/468 [==============================] - 2s 5ms/step - loss: 0.0196\n",
      "Epoch 4/100\n",
      "468/468 [==============================] - 2s 5ms/step - loss: 0.0166\n",
      "Epoch 5/100\n",
      "468/468 [==============================] - 2s 5ms/step - loss: 0.0158\n",
      "Epoch 6/100\n",
      "468/468 [==============================] - 2s 5ms/step - loss: 0.0144\n",
      "Epoch 7/100\n",
      "468/468 [==============================] - 2s 5ms/step - loss: 0.0145\n",
      "Epoch 8/100\n",
      "468/468 [==============================] - 2s 5ms/step - loss: 0.0147\n",
      "Epoch 9/100\n",
      "468/468 [==============================] - 2s 5ms/step - loss: 0.0144\n",
      "Epoch 10/100\n",
      "468/468 [==============================] - 2s 4ms/step - loss: 0.0123\n",
      "Epoch 11/100\n",
      "468/468 [==============================] - 2s 4ms/step - loss: 0.0125\n",
      "Epoch 12/100\n",
      "468/468 [==============================] - 2s 5ms/step - loss: 0.0132\n",
      "Epoch 13/100\n",
      "468/468 [==============================] - 2s 5ms/step - loss: 0.0099\n",
      "Epoch 14/100\n",
      "468/468 [==============================] - 2s 5ms/step - loss: 0.0129\n",
      "Epoch 15/100\n",
      "468/468 [==============================] - 2s 5ms/step - loss: 0.0111\n",
      "Epoch 16/100\n",
      "468/468 [==============================] - 2s 5ms/step - loss: 0.0122\n",
      "Epoch 17/100\n",
      "468/468 [==============================] - 2s 5ms/step - loss: 0.0111\n",
      "Epoch 18/100\n",
      "468/468 [==============================] - 2s 5ms/step - loss: 0.0097\n",
      "Epoch 19/100\n",
      "468/468 [==============================] - 2s 5ms/step - loss: 0.0116\n",
      "Epoch 20/100\n",
      "468/468 [==============================] - 2s 5ms/step - loss: 0.0096\n",
      "Epoch 21/100\n",
      "468/468 [==============================] - 2s 5ms/step - loss: 0.0100\n",
      "Epoch 22/100\n",
      "468/468 [==============================] - 2s 5ms/step - loss: 0.0098\n",
      "Epoch 23/100\n",
      "468/468 [==============================] - 3s 5ms/step - loss: 0.0090\n",
      "Epoch 24/100\n",
      "468/468 [==============================] - 2s 5ms/step - loss: 0.0093\n",
      "Epoch 25/100\n",
      "468/468 [==============================] - 2s 5ms/step - loss: 0.0074\n",
      "Epoch 26/100\n",
      "468/468 [==============================] - 2s 5ms/step - loss: 0.0084\n",
      "Epoch 27/100\n",
      "468/468 [==============================] - 2s 5ms/step - loss: 0.0090\n",
      "Epoch 28/100\n",
      "468/468 [==============================] - 2s 5ms/step - loss: 0.0088\n",
      "Epoch 29/100\n",
      "468/468 [==============================] - 2s 5ms/step - loss: 0.0092\n",
      "Epoch 30/100\n",
      "468/468 [==============================] - 2s 5ms/step - loss: 0.0085\n",
      "Epoch 31/100\n",
      "468/468 [==============================] - 2s 5ms/step - loss: 0.0081\n",
      "Epoch 32/100\n",
      "468/468 [==============================] - 2s 5ms/step - loss: 0.0079\n",
      "Epoch 33/100\n",
      "468/468 [==============================] - 2s 5ms/step - loss: 0.0078\n",
      "Epoch 34/100\n",
      "468/468 [==============================] - 2s 5ms/step - loss: 0.0085\n",
      "Epoch 35/100\n",
      "468/468 [==============================] - 2s 5ms/step - loss: 0.0086\n",
      "Epoch 36/100\n",
      "468/468 [==============================] - 2s 5ms/step - loss: 0.0083\n",
      "Epoch 37/100\n",
      "468/468 [==============================] - 2s 5ms/step - loss: 0.0074\n",
      "Epoch 38/100\n",
      "468/468 [==============================] - 2s 5ms/step - loss: 0.0071\n",
      "Epoch 39/100\n",
      "468/468 [==============================] - 2s 5ms/step - loss: 0.0078\n",
      "Epoch 40/100\n",
      "468/468 [==============================] - 2s 5ms/step - loss: 0.0067\n",
      "Epoch 41/100\n",
      "468/468 [==============================] - 2s 5ms/step - loss: 0.0075\n",
      "Epoch 42/100\n",
      "468/468 [==============================] - 2s 5ms/step - loss: 0.0075\n",
      "Epoch 43/100\n",
      "468/468 [==============================] - 2s 5ms/step - loss: 0.0070\n",
      "Epoch 44/100\n",
      "468/468 [==============================] - 3s 6ms/step - loss: 0.0075\n",
      "Epoch 45/100\n",
      "468/468 [==============================] - 2s 5ms/step - loss: 0.0064\n",
      "Epoch 46/100\n",
      "468/468 [==============================] - 2s 5ms/step - loss: 0.0073\n",
      "Epoch 47/100\n",
      "468/468 [==============================] - 2s 5ms/step - loss: 0.0065\n",
      "Epoch 48/100\n",
      "468/468 [==============================] - 2s 5ms/step - loss: 0.0072\n",
      "Epoch 49/100\n",
      "468/468 [==============================] - 2s 5ms/step - loss: 0.0074\n",
      "Epoch 50/100\n",
      "468/468 [==============================] - 3s 6ms/step - loss: 0.0073\n",
      "Epoch 51/100\n",
      "468/468 [==============================] - 2s 5ms/step - loss: 0.0075\n",
      "Epoch 52/100\n",
      "468/468 [==============================] - 2s 5ms/step - loss: 0.0061\n",
      "Epoch 53/100\n",
      "468/468 [==============================] - 2s 5ms/step - loss: 0.0064\n",
      "Epoch 54/100\n",
      "468/468 [==============================] - 2s 5ms/step - loss: 0.0068\n",
      "Epoch 55/100\n",
      "468/468 [==============================] - 2s 5ms/step - loss: 0.0060\n",
      "Epoch 56/100\n",
      "468/468 [==============================] - 2s 5ms/step - loss: 0.0061\n",
      "Epoch 57/100\n",
      "468/468 [==============================] - 2s 5ms/step - loss: 0.0061\n",
      "Epoch 58/100\n",
      "468/468 [==============================] - 2s 5ms/step - loss: 0.0054\n",
      "Epoch 59/100\n",
      "468/468 [==============================] - 2s 5ms/step - loss: 0.0051\n",
      "Epoch 60/100\n",
      "468/468 [==============================] - 2s 5ms/step - loss: 0.0061\n",
      "Epoch 61/100\n",
      "468/468 [==============================] - 2s 5ms/step - loss: 0.0062\n",
      "Epoch 62/100\n",
      "468/468 [==============================] - 2s 5ms/step - loss: 0.0059\n",
      "Epoch 63/100\n",
      "468/468 [==============================] - 3s 5ms/step - loss: 0.0052\n",
      "Epoch 64/100\n",
      "468/468 [==============================] - 3s 6ms/step - loss: 0.0055\n",
      "Epoch 65/100\n",
      "468/468 [==============================] - 3s 5ms/step - loss: 0.0044\n",
      "Epoch 66/100\n",
      "468/468 [==============================] - 2s 5ms/step - loss: 0.0057\n",
      "Epoch 67/100\n",
      "468/468 [==============================] - 2s 5ms/step - loss: 0.0055\n",
      "Epoch 68/100\n",
      "468/468 [==============================] - 2s 5ms/step - loss: 0.0052\n",
      "Epoch 69/100\n",
      "468/468 [==============================] - 2s 5ms/step - loss: 0.0067\n",
      "Epoch 70/100\n",
      "468/468 [==============================] - 2s 5ms/step - loss: 0.0053\n",
      "Epoch 71/100\n",
      "468/468 [==============================] - 3s 5ms/step - loss: 0.0054\n",
      "Epoch 72/100\n",
      "468/468 [==============================] - 2s 5ms/step - loss: 0.0050\n",
      "Epoch 73/100\n",
      "468/468 [==============================] - 2s 5ms/step - loss: 0.0050\n",
      "Epoch 74/100\n",
      "468/468 [==============================] - 2s 5ms/step - loss: 0.0053\n",
      "Epoch 75/100\n",
      "468/468 [==============================] - 2s 5ms/step - loss: 0.0060\n",
      "Epoch 76/100\n",
      "468/468 [==============================] - 2s 5ms/step - loss: 0.0052\n",
      "Epoch 77/100\n",
      "468/468 [==============================] - 2s 5ms/step - loss: 0.0053\n",
      "Epoch 78/100\n",
      "468/468 [==============================] - 2s 5ms/step - loss: 0.0054\n",
      "Epoch 79/100\n",
      "468/468 [==============================] - 2s 5ms/step - loss: 0.0047\n",
      "Epoch 80/100\n",
      "468/468 [==============================] - 2s 5ms/step - loss: 0.0045\n",
      "Epoch 81/100\n",
      "468/468 [==============================] - 2s 5ms/step - loss: 0.0043\n",
      "Epoch 82/100\n",
      "468/468 [==============================] - 2s 5ms/step - loss: 0.0048\n",
      "Epoch 83/100\n",
      "468/468 [==============================] - 2s 5ms/step - loss: 0.0047\n",
      "Epoch 84/100\n",
      "468/468 [==============================] - 2s 5ms/step - loss: 0.0050\n",
      "Epoch 85/100\n",
      "468/468 [==============================] - 2s 5ms/step - loss: 0.0053\n",
      "Epoch 86/100\n",
      "468/468 [==============================] - 2s 5ms/step - loss: 0.0040\n",
      "Epoch 87/100\n",
      "468/468 [==============================] - 2s 5ms/step - loss: 0.0043\n",
      "Epoch 88/100\n",
      "468/468 [==============================] - 2s 5ms/step - loss: 0.0047\n",
      "Epoch 89/100\n",
      "468/468 [==============================] - 2s 5ms/step - loss: 0.0044\n",
      "Epoch 90/100\n",
      "468/468 [==============================] - 2s 5ms/step - loss: 0.0049\n",
      "Epoch 91/100\n",
      "468/468 [==============================] - 3s 6ms/step - loss: 0.0039\n",
      "Epoch 92/100\n",
      "468/468 [==============================] - 2s 5ms/step - loss: 0.0049\n",
      "Epoch 93/100\n",
      "468/468 [==============================] - 2s 5ms/step - loss: 0.0051\n",
      "Epoch 94/100\n",
      "468/468 [==============================] - 2s 5ms/step - loss: 0.0050\n",
      "Epoch 95/100\n",
      "468/468 [==============================] - 2s 5ms/step - loss: 0.0062\n",
      "Epoch 96/100\n",
      "468/468 [==============================] - 2s 5ms/step - loss: 0.0049\n",
      "Epoch 97/100\n",
      "468/468 [==============================] - 2s 5ms/step - loss: 0.0049\n",
      "Epoch 98/100\n",
      "468/468 [==============================] - 3s 5ms/step - loss: 0.0045\n",
      "Epoch 99/100\n",
      "468/468 [==============================] - 2s 5ms/step - loss: 0.0045\n",
      "Epoch 100/100\n",
      "468/468 [==============================] - 2s 5ms/step - loss: 0.0039\n"
     ]
    }
   ],
   "source": [
    "history = model.fit(X_train, y_train, epochs=100, batch_size=32)"
   ]
  },
  {
   "cell_type": "markdown",
   "metadata": {},
   "source": [
    "## 視覺化訓練損失"
   ]
  },
  {
   "cell_type": "code",
   "execution_count": 42,
   "metadata": {},
   "outputs": [
    {
     "data": {
      "image/png": "[encoded data removed]",
      "text/plain": [
       "<Figure size 432x288 with 1 Axes>"
      ]
     },
     "metadata": {
      "needs_background": "light"
     },
     "output_type": "display_data"
    }
   ],
   "source": [
    "%matplotlib inline\n",
    "import matplotlib \n",
    "import matplotlib.pyplot as plt\n",
    "# plot history\n",
    "plt.plot(history.history['loss'], label='train')\n",
    "# plt.plot(history.history['val_loss'], label='test')\n",
    "plt.legend()\n",
    "plt.show()"
   ]
  },
  {
   "cell_type": "markdown",
   "metadata": {},
   "source": [
    "## 處理測試資料"
   ]
  },
  {
   "cell_type": "code",
   "execution_count": 85,
   "metadata": {},
   "outputs": [],
   "source": [
    "X_concat = np.concatenate([train[-TIME_STEP:],test]) \n",
    "X_concat = sc.transform(X_concat)\n",
    "# 先前的Timestep天資料與test資料\n",
    "X_test = [X_concat[i-TIME_STEP:i, 0] for i in range(TIME_STEP, len(X_concat))]\n",
    "X_test = np.array(X_test)\n",
    "X_test = np.reshape(X_test, (X_test.shape[0], X_test.shape[1], 1))  # Reshape 成 3-dimension"
   ]
  },
  {
   "cell_type": "code",
   "execution_count": 97,
   "metadata": {
    "colab": {
     "base_uri": "https://localhost:8080/",
     "height": 34
    },
    "colab_type": "code",
    "executionInfo": {
     "elapsed": 578,
     "status": "ok",
     "timestamp": 1568102889509,
     "user": {
      "displayName": "洪政緯",
      "photoUrl": "https://lh3.googleusercontent.com/a-/AAuE7mBNx-7UCEMQP_ghX8wFGiCe141Wxvu86hDIulkC0w=s64",
      "userId": "06577521540559748619"
     },
     "user_tz": -480
    },
    "id": "CFPSulahLSlC",
    "outputId": "9aca6cd6-20de-4477-8de0-ca99c64a13b6"
   },
   "outputs": [],
   "source": [
    "predicted_y_test = model.predict(X_test)\n",
    "predicted_y_test = sc.inverse_transform(predicted_y_test)  # to get the original scale"
   ]
  },
  {
   "cell_type": "markdown",
   "metadata": {},
   "source": [
    "## 視覺化預測結果"
   ]
  },
  {
   "cell_type": "code",
   "execution_count": 100,
   "metadata": {},
   "outputs": [
    {
     "data": {
      "image/png": "[encoded data removed]",
      "text/plain": [
       "<Figure size 432x288 with 1 Axes>"
      ]
     },
     "metadata": {
      "needs_background": "light"
     },
     "output_type": "display_data"
    }
   ],
   "source": [
    "# Visualising the results\n",
    "plt.plot(test, color = 'red', label = 'Real TSMC Stock Price')  # 紅線表示真實股價\n",
    "plt.plot(predicted_y_test, color = 'blue', label = 'Predicted TSMC Stock Price')  # 藍線表示預測股價\n",
    "plt.title('TSMC Stock Price Prediction')\n",
    "plt.xlabel('Time')\n",
    "plt.ylabel('TSMC Stock Price')\n",
    "plt.legend()\n",
    "plt.show()"
   ]
  },
  {
   "cell_type": "code",
   "execution_count": null,
   "metadata": {},
   "outputs": [],
   "source": []
  }
 ],
 "metadata": {
  "accelerator": "GPU",
  "colab": {
   "collapsed_sections": [],
   "name": "lstm_stock_predict.ipynb",
   "provenance": [],
   "version": "0.3.2"
  },
  "kernelspec": {
   "display_name": "Python 3",
   "language": "python",
   "name": "python3"
  },
  "language_info": {
   "codemirror_mode": {
    "name": "ipython",
    "version": 3
   },
   "file_extension": ".py",
   "mimetype": "text/x-python",
   "name": "python",
   "nbconvert_exporter": "python",
   "pygments_lexer": "ipython3",
   "version": "3.7.3"
  }
 },
 "nbformat": 4,
 "nbformat_minor": 4
}
