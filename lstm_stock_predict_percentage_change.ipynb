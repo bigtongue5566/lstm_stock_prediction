{
 "cells": [
  {
   "cell_type": "code",
   "execution_count": 1,
   "metadata": {
    "colab": {},
    "colab_type": "code",
    "id": "fIKrighNZL1m"
   },
   "outputs": [],
   "source": [
    "import requests\n",
    "import pandas as pd\n",
    "from io import StringIO\n",
    "import datetime\n",
    "import time"
   ]
  },
  {
   "cell_type": "markdown",
   "metadata": {
    "colab_type": "text",
    "id": "afilJyhcZRK6"
   },
   "source": [
    "## 讀取台股股價資料"
   ]
  },
  {
   "cell_type": "code",
   "execution_count": 2,
   "metadata": {
    "colab": {},
    "colab_type": "code",
    "id": "FF1nmLkCdwvg"
   },
   "outputs": [],
   "source": [
    "def get_year_month_str_from(year,month):\n",
    "    year_month_arr = []\n",
    "    today=datetime.datetime.today()\n",
    "    while True:\n",
    "        year_month_arr.append('%d%02d01' % (year,month))\n",
    "        if year == today.year and month == today.month:\n",
    "            break\n",
    "        if month == 12:\n",
    "            year += 1\n",
    "            month = 1\n",
    "        else:\n",
    "            month += 1\n",
    "    return year_month_arr"
   ]
  },
  {
   "cell_type": "markdown",
   "metadata": {},
   "source": [
    "### 爬取2017年開始每日資料"
   ]
  },
  {
   "cell_type": "code",
   "execution_count": 3,
   "metadata": {
    "colab": {},
    "colab_type": "code",
    "id": "3QnDKEw7euag"
   },
   "outputs": [],
   "source": [
    "year_month_str = get_year_month_str_from(2017,1)"
   ]
  },
  {
   "cell_type": "code",
   "execution_count": 4,
   "metadata": {
    "colab": {},
    "colab_type": "code",
    "id": "PhBn2qDSkTYH"
   },
   "outputs": [],
   "source": [
    "def transform_date(date):   #民國轉西元\n",
    "        y, m, d = date.split('/')\n",
    "        return str(int(y)+1911) + '/' + m  + '/' + d\n",
    "    \n",
    "def transform_value(data):   #將證交所獲得資料進行資料格式轉換\n",
    "    data[0] = datetime.datetime.strptime(transform_date(data[0]), '%Y/%m/%d')\n",
    "    data[1] = int(data[1].replace(',', ''))#把千進位的逗點去除\n",
    "    data[2] = int(data[2].replace(',', ''))\n",
    "    data[3] = float(data[3].replace(',', ''))\n",
    "    data[4] = float(data[4].replace(',', ''))\n",
    "    data[5] = float(data[5].replace(',', ''))\n",
    "    data[6] = float(data[6].replace(',', ''))\n",
    "    data[7] = float(0.0 if data[7].replace(',', '') == 'X0.00' else data[7].replace(',', ''))  # +/-/X表示漲/跌/不比價\n",
    "    data[8] = int(data[8].replace(',', ''))\n",
    "    return data\n",
    "def transform(data):   #讀取每一個元素進行資料格式轉換，再產生新的串列\n",
    "    return [transform_value(d) for d in data]"
   ]
  },
  {
   "cell_type": "code",
   "execution_count": 5,
   "metadata": {
    "colab": {},
    "colab_type": "code",
    "id": "0atiwTpXNgbi"
   },
   "outputs": [],
   "source": [
    "STOCK_NO='2330'"
   ]
  },
  {
   "cell_type": "code",
   "execution_count": 6,
   "metadata": {
    "colab": {},
    "colab_type": "code",
    "id": "Fa063x5UfIDY"
   },
   "outputs": [],
   "source": [
    "df = pd.DataFrame()\n",
    "for datetimeStr in year_month_str:\n",
    "    url = \"http://www.twse.com.tw/exchangeReport/STOCK_DAY\"\n",
    "    params = {}\n",
    "    params['stockNo'] = STOCK_NO\n",
    "    params['date'] = datetimeStr\n",
    "    r = requests.get(url, params=params)\n",
    "    df = df.append(pd.DataFrame(transform(r.json()['data']),columns=r.json()['fields']),ignore_index = True)\n",
    "    time.sleep(3)"
   ]
  },
  {
   "cell_type": "code",
   "execution_count": 7,
   "metadata": {
    "colab": {
     "base_uri": "https://localhost:8080/",
     "height": 68
    },
    "colab_type": "code",
    "executionInfo": {
     "elapsed": 580,
     "status": "ok",
     "timestamp": 1568101501655,
     "user": {
      "displayName": "洪政緯",
      "photoUrl": "https://lh3.googleusercontent.com/a-/AAuE7mBNx-7UCEMQP_ghX8wFGiCe141Wxvu86hDIulkC0w=s64",
      "userId": "06577521540559748619"
     },
     "user_tz": -480
    },
    "id": "yCDwO7gd8BMx",
    "outputId": "8211ff24-e9ed-44e2-975a-bbc34c89b020"
   },
   "outputs": [
    {
     "data": {
      "text/plain": [
       "Index(['日期', '成交股數', '成交金額', '開盤價', '最高價', '最低價', '收盤價', '漲跌價差', '成交筆數',\n",
       "       '漲跌幅'],\n",
       "      dtype='object')"
      ]
     },
     "execution_count": 7,
     "metadata": {},
     "output_type": "execute_result"
    }
   ],
   "source": [
    "df['漲跌幅'] = df['收盤價'].pct_change().map(lambda x: x*100)\n",
    "df.columns"
   ]
  },
  {
   "cell_type": "code",
   "execution_count": 8,
   "metadata": {
    "colab": {
     "base_uri": "https://localhost:8080/",
     "height": 1000
    },
    "colab_type": "code",
    "executionInfo": {
     "elapsed": 611,
     "status": "ok",
     "timestamp": 1568101672075,
     "user": {
      "displayName": "洪政緯",
      "photoUrl": "https://lh3.googleusercontent.com/a-/AAuE7mBNx-7UCEMQP_ghX8wFGiCe141Wxvu86hDIulkC0w=s64",
      "userId": "06577521540559748619"
     },
     "user_tz": -480
    },
    "id": "PMqbv-gDJIlD",
    "outputId": "9990bbee-2d43-4d58-e7e9-34f388be39f6"
   },
   "outputs": [
    {
     "data": {
      "text/html": [
       "<div>\n",
       "<style scoped>\n",
       "    .dataframe tbody tr th:only-of-type {\n",
       "        vertical-align: middle;\n",
       "    }\n",
       "\n",
       "    .dataframe tbody tr th {\n",
       "        vertical-align: top;\n",
       "    }\n",
       "\n",
       "    .dataframe thead th {\n",
       "        text-align: right;\n",
       "    }\n",
       "</style>\n",
       "<table border=\"1\" class=\"dataframe\">\n",
       "  <thead>\n",
       "    <tr style=\"text-align: right;\">\n",
       "      <th></th>\n",
       "      <th>日期</th>\n",
       "      <th>成交股數</th>\n",
       "      <th>成交金額</th>\n",
       "      <th>開盤價</th>\n",
       "      <th>最高價</th>\n",
       "      <th>最低價</th>\n",
       "      <th>收盤價</th>\n",
       "      <th>漲跌價差</th>\n",
       "      <th>成交筆數</th>\n",
       "      <th>漲跌幅</th>\n",
       "    </tr>\n",
       "  </thead>\n",
       "  <tbody>\n",
       "    <tr>\n",
       "      <th>0</th>\n",
       "      <td>2017-01-03</td>\n",
       "      <td>23550783</td>\n",
       "      <td>4300648272</td>\n",
       "      <td>181.5</td>\n",
       "      <td>183.5</td>\n",
       "      <td>181.0</td>\n",
       "      <td>183.0</td>\n",
       "      <td>1.5</td>\n",
       "      <td>8743</td>\n",
       "      <td>NaN</td>\n",
       "    </tr>\n",
       "    <tr>\n",
       "      <th>1</th>\n",
       "      <td>2017-01-04</td>\n",
       "      <td>24482374</td>\n",
       "      <td>4478699942</td>\n",
       "      <td>183.0</td>\n",
       "      <td>184.0</td>\n",
       "      <td>181.5</td>\n",
       "      <td>183.0</td>\n",
       "      <td>0.0</td>\n",
       "      <td>8476</td>\n",
       "      <td>0.000000</td>\n",
       "    </tr>\n",
       "    <tr>\n",
       "      <th>2</th>\n",
       "      <td>2017-01-05</td>\n",
       "      <td>21373561</td>\n",
       "      <td>3913389163</td>\n",
       "      <td>182.0</td>\n",
       "      <td>183.5</td>\n",
       "      <td>181.5</td>\n",
       "      <td>183.5</td>\n",
       "      <td>0.5</td>\n",
       "      <td>8297</td>\n",
       "      <td>0.273224</td>\n",
       "    </tr>\n",
       "    <tr>\n",
       "      <th>3</th>\n",
       "      <td>2017-01-06</td>\n",
       "      <td>23120808</td>\n",
       "      <td>4250912732</td>\n",
       "      <td>184.0</td>\n",
       "      <td>184.5</td>\n",
       "      <td>183.5</td>\n",
       "      <td>184.0</td>\n",
       "      <td>0.5</td>\n",
       "      <td>9659</td>\n",
       "      <td>0.272480</td>\n",
       "    </tr>\n",
       "    <tr>\n",
       "      <th>4</th>\n",
       "      <td>2017-01-09</td>\n",
       "      <td>18583788</td>\n",
       "      <td>3419409204</td>\n",
       "      <td>184.0</td>\n",
       "      <td>185.0</td>\n",
       "      <td>183.0</td>\n",
       "      <td>184.0</td>\n",
       "      <td>0.0</td>\n",
       "      <td>5759</td>\n",
       "      <td>0.000000</td>\n",
       "    </tr>\n",
       "  </tbody>\n",
       "</table>\n",
       "</div>"
      ],
      "text/plain": [
       "          日期      成交股數        成交金額    開盤價    最高價    最低價    收盤價  漲跌價差  成交筆數  \\\n",
       "0 2017-01-03  23550783  4300648272  181.5  183.5  181.0  183.0   1.5  8743   \n",
       "1 2017-01-04  24482374  4478699942  183.0  184.0  181.5  183.0   0.0  8476   \n",
       "2 2017-01-05  21373561  3913389163  182.0  183.5  181.5  183.5   0.5  8297   \n",
       "3 2017-01-06  23120808  4250912732  184.0  184.5  183.5  184.0   0.5  9659   \n",
       "4 2017-01-09  18583788  3419409204  184.0  185.0  183.0  184.0   0.0  5759   \n",
       "\n",
       "        漲跌幅  \n",
       "0       NaN  \n",
       "1  0.000000  \n",
       "2  0.273224  \n",
       "3  0.272480  \n",
       "4  0.000000  "
      ]
     },
     "execution_count": 8,
     "metadata": {},
     "output_type": "execute_result"
    }
   ],
   "source": [
    "df.head()"
   ]
  },
  {
   "cell_type": "code",
   "execution_count": 9,
   "metadata": {
    "colab": {
     "base_uri": "https://localhost:8080/",
     "height": 1000
    },
    "colab_type": "code",
    "executionInfo": {
     "elapsed": 721,
     "status": "ok",
     "timestamp": 1568101585703,
     "user": {
      "displayName": "洪政緯",
      "photoUrl": "https://lh3.googleusercontent.com/a-/AAuE7mBNx-7UCEMQP_ghX8wFGiCe141Wxvu86hDIulkC0w=s64",
      "userId": "06577521540559748619"
     },
     "user_tz": -480
    },
    "id": "wpCQfS0q8BMz",
    "outputId": "61ca71d1-e68b-417c-af15-de68ede51d88"
   },
   "outputs": [
    {
     "data": {
      "text/html": [
       "<div>\n",
       "<style scoped>\n",
       "    .dataframe tbody tr th:only-of-type {\n",
       "        vertical-align: middle;\n",
       "    }\n",
       "\n",
       "    .dataframe tbody tr th {\n",
       "        vertical-align: top;\n",
       "    }\n",
       "\n",
       "    .dataframe thead th {\n",
       "        text-align: right;\n",
       "    }\n",
       "</style>\n",
       "<table border=\"1\" class=\"dataframe\">\n",
       "  <thead>\n",
       "    <tr style=\"text-align: right;\">\n",
       "      <th></th>\n",
       "      <th>開盤價</th>\n",
       "      <th>最高價</th>\n",
       "      <th>最低價</th>\n",
       "      <th>收盤價</th>\n",
       "      <th>成交筆數</th>\n",
       "      <th>漲跌幅</th>\n",
       "    </tr>\n",
       "  </thead>\n",
       "  <tbody>\n",
       "    <tr>\n",
       "      <th>0</th>\n",
       "      <td>181.5</td>\n",
       "      <td>183.5</td>\n",
       "      <td>181.0</td>\n",
       "      <td>183.0</td>\n",
       "      <td>8743</td>\n",
       "      <td>NaN</td>\n",
       "    </tr>\n",
       "    <tr>\n",
       "      <th>1</th>\n",
       "      <td>183.0</td>\n",
       "      <td>184.0</td>\n",
       "      <td>181.5</td>\n",
       "      <td>183.0</td>\n",
       "      <td>8476</td>\n",
       "      <td>0.000000</td>\n",
       "    </tr>\n",
       "    <tr>\n",
       "      <th>2</th>\n",
       "      <td>182.0</td>\n",
       "      <td>183.5</td>\n",
       "      <td>181.5</td>\n",
       "      <td>183.5</td>\n",
       "      <td>8297</td>\n",
       "      <td>0.273224</td>\n",
       "    </tr>\n",
       "    <tr>\n",
       "      <th>3</th>\n",
       "      <td>184.0</td>\n",
       "      <td>184.5</td>\n",
       "      <td>183.5</td>\n",
       "      <td>184.0</td>\n",
       "      <td>9659</td>\n",
       "      <td>0.272480</td>\n",
       "    </tr>\n",
       "    <tr>\n",
       "      <th>4</th>\n",
       "      <td>184.0</td>\n",
       "      <td>185.0</td>\n",
       "      <td>183.0</td>\n",
       "      <td>184.0</td>\n",
       "      <td>5759</td>\n",
       "      <td>0.000000</td>\n",
       "    </tr>\n",
       "  </tbody>\n",
       "</table>\n",
       "</div>"
      ],
      "text/plain": [
       "     開盤價    最高價    最低價    收盤價  成交筆數       漲跌幅\n",
       "0  181.5  183.5  181.0  183.0  8743       NaN\n",
       "1  183.0  184.0  181.5  183.0  8476  0.000000\n",
       "2  182.0  183.5  181.5  183.5  8297  0.273224\n",
       "3  184.0  184.5  183.5  184.0  9659  0.272480\n",
       "4  184.0  185.0  183.0  184.0  5759  0.000000"
      ]
     },
     "execution_count": 9,
     "metadata": {},
     "output_type": "execute_result"
    }
   ],
   "source": [
    "all_data = df.loc[:,['開盤價','最高價','最低價','收盤價','成交筆數','漲跌幅']]\n",
    "all_data.head()"
   ]
  },
  {
   "cell_type": "code",
   "execution_count": 10,
   "metadata": {
    "colab": {
     "base_uri": "https://localhost:8080/",
     "height": 1000
    },
    "colab_type": "code",
    "executionInfo": {
     "elapsed": 571,
     "status": "ok",
     "timestamp": 1568101588890,
     "user": {
      "displayName": "洪政緯",
      "photoUrl": "https://lh3.googleusercontent.com/a-/AAuE7mBNx-7UCEMQP_ghX8wFGiCe141Wxvu86hDIulkC0w=s64",
      "userId": "06577521540559748619"
     },
     "user_tz": -480
    },
    "id": "d15YRhwn8BM1",
    "outputId": "233c0965-18d1-43c5-b45f-ccb4a9e07d4d"
   },
   "outputs": [
    {
     "data": {
      "text/html": [
       "<div>\n",
       "<style scoped>\n",
       "    .dataframe tbody tr th:only-of-type {\n",
       "        vertical-align: middle;\n",
       "    }\n",
       "\n",
       "    .dataframe tbody tr th {\n",
       "        vertical-align: top;\n",
       "    }\n",
       "\n",
       "    .dataframe thead th {\n",
       "        text-align: right;\n",
       "    }\n",
       "</style>\n",
       "<table border=\"1\" class=\"dataframe\">\n",
       "  <thead>\n",
       "    <tr style=\"text-align: right;\">\n",
       "      <th></th>\n",
       "      <th>開盤價</th>\n",
       "      <th>最高價</th>\n",
       "      <th>最低價</th>\n",
       "      <th>收盤價</th>\n",
       "      <th>成交筆數</th>\n",
       "      <th>漲跌幅</th>\n",
       "    </tr>\n",
       "  </thead>\n",
       "  <tbody>\n",
       "    <tr>\n",
       "      <th>0</th>\n",
       "      <td>0.022099</td>\n",
       "      <td>0.033520</td>\n",
       "      <td>0.022599</td>\n",
       "      <td>0.039106</td>\n",
       "      <td>0.169314</td>\n",
       "      <td>NaN</td>\n",
       "    </tr>\n",
       "    <tr>\n",
       "      <th>1</th>\n",
       "      <td>0.038674</td>\n",
       "      <td>0.039106</td>\n",
       "      <td>0.028249</td>\n",
       "      <td>0.039106</td>\n",
       "      <td>0.163416</td>\n",
       "      <td>0.077404</td>\n",
       "    </tr>\n",
       "    <tr>\n",
       "      <th>2</th>\n",
       "      <td>0.027624</td>\n",
       "      <td>0.033520</td>\n",
       "      <td>0.028249</td>\n",
       "      <td>0.044693</td>\n",
       "      <td>0.159462</td>\n",
       "      <td>0.120936</td>\n",
       "    </tr>\n",
       "    <tr>\n",
       "      <th>3</th>\n",
       "      <td>0.049724</td>\n",
       "      <td>0.044693</td>\n",
       "      <td>0.050847</td>\n",
       "      <td>0.050279</td>\n",
       "      <td>0.189547</td>\n",
       "      <td>0.120817</td>\n",
       "    </tr>\n",
       "    <tr>\n",
       "      <th>4</th>\n",
       "      <td>0.049724</td>\n",
       "      <td>0.050279</td>\n",
       "      <td>0.045198</td>\n",
       "      <td>0.050279</td>\n",
       "      <td>0.103400</td>\n",
       "      <td>0.077404</td>\n",
       "    </tr>\n",
       "  </tbody>\n",
       "</table>\n",
       "</div>"
      ],
      "text/plain": [
       "        開盤價       最高價       最低價       收盤價      成交筆數       漲跌幅\n",
       "0  0.022099  0.033520  0.022599  0.039106  0.169314       NaN\n",
       "1  0.038674  0.039106  0.028249  0.039106  0.163416  0.077404\n",
       "2  0.027624  0.033520  0.028249  0.044693  0.159462  0.120936\n",
       "3  0.049724  0.044693  0.050847  0.050279  0.189547  0.120817\n",
       "4  0.049724  0.050279  0.045198  0.050279  0.103400  0.077404"
      ]
     },
     "execution_count": 10,
     "metadata": {},
     "output_type": "execute_result"
    }
   ],
   "source": [
    "from sklearn.preprocessing import MinMaxScaler\n",
    "sc = MinMaxScaler(feature_range = (0, 1))\n",
    "sc_percentage = MinMaxScaler(feature_range = (-1, 1))\n",
    "all_data.loc[:, all_data.columns != '漲跌幅'] = sc.fit_transform(all_data.loc[:, all_data.columns != '漲跌幅'])\n",
    "all_data.loc[1:,['漲跌幅']] = sc_percentage.fit_transform(all_data.loc[1:,['漲跌幅']])\n",
    "all_data.head()"
   ]
  },
  {
   "cell_type": "code",
   "execution_count": 11,
   "metadata": {
    "colab": {},
    "colab_type": "code",
    "id": "2MgFJjjv8BM2"
   },
   "outputs": [],
   "source": [
    "def series_to_supervised(data, n_in=1, n_out=1, dropnan=True):\n",
    "    cols, names = list(), list()\n",
    "    # input sequence (t-n, ... t-1)\n",
    "    for i in range(n_in, 0, -1):\n",
    "        cols.append(data.shift(i))\n",
    "        names += [('%s(t-%d)' % (data.columns[j], i)) for j in range(data.shape[1])]\n",
    "    \n",
    "    # forecast sequence (t, t+1, ... t+n)\n",
    "    for i in range(0, n_out):\n",
    "        cols.append(data.shift(-i))\n",
    "        if i == 0:\n",
    "             names += [('%s(t)' % data.columns[j]) for j in range(data.shape[1])]\n",
    "        else:\n",
    "            names += [('%s(t+%d)' % (data.columns[j], i)) for j in range(data.shape[1])]\n",
    "    # put it all together\n",
    "    agg = pd.concat(cols, axis=1)\n",
    "    agg.columns = names\n",
    "    # drop rows with NaN values\n",
    "    if dropnan:\n",
    "        agg.dropna(inplace=True)\n",
    "    return agg"
   ]
  },
  {
   "cell_type": "code",
   "execution_count": 12,
   "metadata": {
    "colab": {},
    "colab_type": "code",
    "id": "eQF7w4Ba_wj3"
   },
   "outputs": [],
   "source": [
    "TIME_STEP = 20"
   ]
  },
  {
   "cell_type": "code",
   "execution_count": 13,
   "metadata": {
    "colab": {
     "base_uri": "https://localhost:8080/",
     "height": 1000
    },
    "colab_type": "code",
    "executionInfo": {
     "elapsed": 861,
     "status": "ok",
     "timestamp": 1568102664732,
     "user": {
      "displayName": "洪政緯",
      "photoUrl": "https://lh3.googleusercontent.com/a-/AAuE7mBNx-7UCEMQP_ghX8wFGiCe141Wxvu86hDIulkC0w=s64",
      "userId": "06577521540559748619"
     },
     "user_tz": -480
    },
    "id": "NBx3eU8K8BM4",
    "outputId": "27117a14-efe3-474b-aa7f-9f3037864ffb"
   },
   "outputs": [
    {
     "data": {
      "text/html": [
       "<div>\n",
       "<style scoped>\n",
       "    .dataframe tbody tr th:only-of-type {\n",
       "        vertical-align: middle;\n",
       "    }\n",
       "\n",
       "    .dataframe tbody tr th {\n",
       "        vertical-align: top;\n",
       "    }\n",
       "\n",
       "    .dataframe thead th {\n",
       "        text-align: right;\n",
       "    }\n",
       "</style>\n",
       "<table border=\"1\" class=\"dataframe\">\n",
       "  <thead>\n",
       "    <tr style=\"text-align: right;\">\n",
       "      <th></th>\n",
       "      <th>開盤價(t-20)</th>\n",
       "      <th>最高價(t-20)</th>\n",
       "      <th>最低價(t-20)</th>\n",
       "      <th>收盤價(t-20)</th>\n",
       "      <th>成交筆數(t-20)</th>\n",
       "      <th>漲跌幅(t-20)</th>\n",
       "      <th>開盤價(t-19)</th>\n",
       "      <th>最高價(t-19)</th>\n",
       "      <th>最低價(t-19)</th>\n",
       "      <th>收盤價(t-19)</th>\n",
       "      <th>...</th>\n",
       "      <th>收盤價(t-2)</th>\n",
       "      <th>成交筆數(t-2)</th>\n",
       "      <th>漲跌幅(t-2)</th>\n",
       "      <th>開盤價(t-1)</th>\n",
       "      <th>最高價(t-1)</th>\n",
       "      <th>最低價(t-1)</th>\n",
       "      <th>收盤價(t-1)</th>\n",
       "      <th>成交筆數(t-1)</th>\n",
       "      <th>漲跌幅(t-1)</th>\n",
       "      <th>漲跌幅(t)</th>\n",
       "    </tr>\n",
       "  </thead>\n",
       "  <tbody>\n",
       "    <tr>\n",
       "      <th>21</th>\n",
       "      <td>0.038674</td>\n",
       "      <td>0.039106</td>\n",
       "      <td>0.028249</td>\n",
       "      <td>0.039106</td>\n",
       "      <td>0.163416</td>\n",
       "      <td>0.077404</td>\n",
       "      <td>0.027624</td>\n",
       "      <td>0.033520</td>\n",
       "      <td>0.028249</td>\n",
       "      <td>0.044693</td>\n",
       "      <td>...</td>\n",
       "      <td>0.055866</td>\n",
       "      <td>0.168629</td>\n",
       "      <td>0.077404</td>\n",
       "      <td>0.044199</td>\n",
       "      <td>0.044693</td>\n",
       "      <td>0.045198</td>\n",
       "      <td>0.044693</td>\n",
       "      <td>0.158313</td>\n",
       "      <td>-0.008951</td>\n",
       "      <td>0.120817</td>\n",
       "    </tr>\n",
       "    <tr>\n",
       "      <th>22</th>\n",
       "      <td>0.027624</td>\n",
       "      <td>0.033520</td>\n",
       "      <td>0.028249</td>\n",
       "      <td>0.044693</td>\n",
       "      <td>0.159462</td>\n",
       "      <td>0.120936</td>\n",
       "      <td>0.049724</td>\n",
       "      <td>0.044693</td>\n",
       "      <td>0.050847</td>\n",
       "      <td>0.050279</td>\n",
       "      <td>...</td>\n",
       "      <td>0.044693</td>\n",
       "      <td>0.158313</td>\n",
       "      <td>-0.008951</td>\n",
       "      <td>0.049724</td>\n",
       "      <td>0.055866</td>\n",
       "      <td>0.050847</td>\n",
       "      <td>0.050279</td>\n",
       "      <td>0.122838</td>\n",
       "      <td>0.120817</td>\n",
       "      <td>0.207289</td>\n",
       "    </tr>\n",
       "    <tr>\n",
       "      <th>23</th>\n",
       "      <td>0.049724</td>\n",
       "      <td>0.044693</td>\n",
       "      <td>0.050847</td>\n",
       "      <td>0.050279</td>\n",
       "      <td>0.189547</td>\n",
       "      <td>0.120817</td>\n",
       "      <td>0.049724</td>\n",
       "      <td>0.050279</td>\n",
       "      <td>0.045198</td>\n",
       "      <td>0.050279</td>\n",
       "      <td>...</td>\n",
       "      <td>0.050279</td>\n",
       "      <td>0.122838</td>\n",
       "      <td>0.120817</td>\n",
       "      <td>0.055249</td>\n",
       "      <td>0.055866</td>\n",
       "      <td>0.056497</td>\n",
       "      <td>0.067039</td>\n",
       "      <td>0.187493</td>\n",
       "      <td>0.207289</td>\n",
       "      <td>0.249183</td>\n",
       "    </tr>\n",
       "    <tr>\n",
       "      <th>24</th>\n",
       "      <td>0.049724</td>\n",
       "      <td>0.050279</td>\n",
       "      <td>0.045198</td>\n",
       "      <td>0.050279</td>\n",
       "      <td>0.103400</td>\n",
       "      <td>0.077404</td>\n",
       "      <td>0.055249</td>\n",
       "      <td>0.055866</td>\n",
       "      <td>0.050847</td>\n",
       "      <td>0.050279</td>\n",
       "      <td>...</td>\n",
       "      <td>0.067039</td>\n",
       "      <td>0.187493</td>\n",
       "      <td>0.207289</td>\n",
       "      <td>0.077348</td>\n",
       "      <td>0.083799</td>\n",
       "      <td>0.084746</td>\n",
       "      <td>0.089385</td>\n",
       "      <td>0.199819</td>\n",
       "      <td>0.249183</td>\n",
       "      <td>0.077404</td>\n",
       "    </tr>\n",
       "    <tr>\n",
       "      <th>25</th>\n",
       "      <td>0.055249</td>\n",
       "      <td>0.055866</td>\n",
       "      <td>0.050847</td>\n",
       "      <td>0.050279</td>\n",
       "      <td>0.149168</td>\n",
       "      <td>0.077404</td>\n",
       "      <td>0.060773</td>\n",
       "      <td>0.050279</td>\n",
       "      <td>0.028249</td>\n",
       "      <td>0.027933</td>\n",
       "      <td>...</td>\n",
       "      <td>0.089385</td>\n",
       "      <td>0.199819</td>\n",
       "      <td>0.249183</td>\n",
       "      <td>0.104972</td>\n",
       "      <td>0.106145</td>\n",
       "      <td>0.096045</td>\n",
       "      <td>0.089385</td>\n",
       "      <td>0.228292</td>\n",
       "      <td>0.077404</td>\n",
       "      <td>0.204864</td>\n",
       "    </tr>\n",
       "  </tbody>\n",
       "</table>\n",
       "<p>5 rows × 121 columns</p>\n",
       "</div>"
      ],
      "text/plain": [
       "    開盤價(t-20)  最高價(t-20)  最低價(t-20)  收盤價(t-20)  成交筆數(t-20)  漲跌幅(t-20)  \\\n",
       "21   0.038674   0.039106   0.028249   0.039106    0.163416   0.077404   \n",
       "22   0.027624   0.033520   0.028249   0.044693    0.159462   0.120936   \n",
       "23   0.049724   0.044693   0.050847   0.050279    0.189547   0.120817   \n",
       "24   0.049724   0.050279   0.045198   0.050279    0.103400   0.077404   \n",
       "25   0.055249   0.055866   0.050847   0.050279    0.149168   0.077404   \n",
       "\n",
       "    開盤價(t-19)  最高價(t-19)  最低價(t-19)  收盤價(t-19)  ...  收盤價(t-2)  成交筆數(t-2)  \\\n",
       "21   0.027624   0.033520   0.028249   0.044693  ...  0.055866   0.168629   \n",
       "22   0.049724   0.044693   0.050847   0.050279  ...  0.044693   0.158313   \n",
       "23   0.049724   0.050279   0.045198   0.050279  ...  0.050279   0.122838   \n",
       "24   0.055249   0.055866   0.050847   0.050279  ...  0.067039   0.187493   \n",
       "25   0.060773   0.050279   0.028249   0.027933  ...  0.089385   0.199819   \n",
       "\n",
       "    漲跌幅(t-2)  開盤價(t-1)  最高價(t-1)  最低價(t-1)  收盤價(t-1)  成交筆數(t-1)  漲跌幅(t-1)  \\\n",
       "21  0.077404  0.044199  0.044693  0.045198  0.044693   0.158313 -0.008951   \n",
       "22 -0.008951  0.049724  0.055866  0.050847  0.050279   0.122838  0.120817   \n",
       "23  0.120817  0.055249  0.055866  0.056497  0.067039   0.187493  0.207289   \n",
       "24  0.207289  0.077348  0.083799  0.084746  0.089385   0.199819  0.249183   \n",
       "25  0.249183  0.104972  0.106145  0.096045  0.089385   0.228292  0.077404   \n",
       "\n",
       "      漲跌幅(t)  \n",
       "21  0.120817  \n",
       "22  0.207289  \n",
       "23  0.249183  \n",
       "24  0.077404  \n",
       "25  0.204864  \n",
       "\n",
       "[5 rows x 121 columns]"
      ]
     },
     "execution_count": 13,
     "metadata": {},
     "output_type": "execute_result"
    }
   ],
   "source": [
    "supervised_data_all_columns = series_to_supervised(all_data,TIME_STEP)\n",
    "supervised_data = supervised_data_all_columns.drop(supervised_data_all_columns.columns[[-2,-3,-4,-5,-6]], axis=1)\n",
    "supervised_data.head()"
   ]
  },
  {
   "cell_type": "markdown",
   "metadata": {},
   "source": [
    "## 將資料分為訓練用及測試用"
   ]
  },
  {
   "cell_type": "code",
   "execution_count": 14,
   "metadata": {
    "colab": {
     "base_uri": "https://localhost:8080/",
     "height": 51
    },
    "colab_type": "code",
    "executionInfo": {
     "elapsed": 579,
     "status": "ok",
     "timestamp": 1568101605271,
     "user": {
      "displayName": "洪政緯",
      "photoUrl": "https://lh3.googleusercontent.com/a-/AAuE7mBNx-7UCEMQP_ghX8wFGiCe141Wxvu86hDIulkC0w=s64",
      "userId": "06577521540559748619"
     },
     "user_tz": -480
    },
    "id": "kMbYVmIG8BM5",
    "outputId": "501bbd86-94c0-456b-ac4b-a18366364d92"
   },
   "outputs": [
    {
     "name": "stdout",
     "output_type": "stream",
     "text": [
      "511\n",
      "128\n"
     ]
    }
   ],
   "source": [
    "train_size = round(len(supervised_data)*0.8)\n",
    "print(train_size)\n",
    "values = supervised_data.values\n",
    "train = values[:train_size, :]\n",
    "test = values[train_size:, :]\n",
    "test_size = len(test)\n",
    "print(test_size)"
   ]
  },
  {
   "cell_type": "code",
   "execution_count": 15,
   "metadata": {
    "colab": {
     "base_uri": "https://localhost:8080/",
     "height": 68
    },
    "colab_type": "code",
    "executionInfo": {
     "elapsed": 585,
     "status": "ok",
     "timestamp": 1568101606716,
     "user": {
      "displayName": "洪政緯",
      "photoUrl": "https://lh3.googleusercontent.com/a-/AAuE7mBNx-7UCEMQP_ghX8wFGiCe141Wxvu86hDIulkC0w=s64",
      "userId": "06577521540559748619"
     },
     "user_tz": -480
    },
    "id": "3iMIA7Fq8BM7",
    "outputId": "3563c28d-9919-4fc1-bc3b-a1abb8f5fbca"
   },
   "outputs": [
    {
     "name": "stdout",
     "output_type": "stream",
     "text": [
      "(511, 20, 6) (511,) (128, 20, 6) (128,)\n",
      "20\n",
      "6\n"
     ]
    }
   ],
   "source": [
    "# split into input and outputs\n",
    "train_X, train_y = train[:, :-1], train[:, -1]\n",
    "test_X, test_y = test[:, :-1], test[:, -1]\n",
    "# reshape input to be 3D [samples, timesteps, features]\n",
    "train_X = train_X.reshape((train_size, TIME_STEP, 6))\n",
    "test_X = test_X.reshape((test_size, TIME_STEP, 6))\n",
    "print(train_X.shape, train_y.shape, test_X.shape, test_y.shape)\n",
    "print(train_X.shape[1])\n",
    "print(train_X.shape[2])"
   ]
  },
  {
   "cell_type": "code",
   "execution_count": 16,
   "metadata": {
    "colab": {
     "base_uri": "https://localhost:8080/",
     "height": 1000
    },
    "colab_type": "code",
    "executionInfo": {
     "elapsed": 19075,
     "status": "ok",
     "timestamp": 1568101626686,
     "user": {
      "displayName": "洪政緯",
      "photoUrl": "https://lh3.googleusercontent.com/a-/AAuE7mBNx-7UCEMQP_ghX8wFGiCe141Wxvu86hDIulkC0w=s64",
      "userId": "06577521540559748619"
     },
     "user_tz": -480
    },
    "id": "zDYqd99V8BM8",
    "outputId": "bbfe83c9-6e28-4795-8d54-58956e2697d4"
   },
   "outputs": [
    {
     "name": "stderr",
     "output_type": "stream",
     "text": [
      "Using TensorFlow backend.\n"
     ]
    }
   ],
   "source": [
    "%matplotlib inline\n",
    "from keras.models import Sequential\n",
    "from keras.layers import Dense\n",
    "from keras.layers import LSTM\n",
    "from keras.layers import Dropout\n",
    "import matplotlib \n",
    "import matplotlib.pyplot as plt"
   ]
  },
  {
   "cell_type": "markdown",
   "metadata": {},
   "source": [
    "## 建立lstm模型"
   ]
  },
  {
   "cell_type": "code",
   "execution_count": 17,
   "metadata": {},
   "outputs": [
    {
     "name": "stderr",
     "output_type": "stream",
     "text": [
      "WARNING: Logging before flag parsing goes to stderr.\n",
      "W0911 20:45:30.533166 15000 deprecation_wrapper.py:119] From C:\\Users\\Bigtongue\\Anaconda3\\lib\\site-packages\\keras\\backend\\tensorflow_backend.py:74: The name tf.get_default_graph is deprecated. Please use tf.compat.v1.get_default_graph instead.\n",
      "\n",
      "W0911 20:45:30.550167 15000 deprecation_wrapper.py:119] From C:\\Users\\Bigtongue\\Anaconda3\\lib\\site-packages\\keras\\backend\\tensorflow_backend.py:517: The name tf.placeholder is deprecated. Please use tf.compat.v1.placeholder instead.\n",
      "\n",
      "W0911 20:45:30.553169 15000 deprecation_wrapper.py:119] From C:\\Users\\Bigtongue\\Anaconda3\\lib\\site-packages\\keras\\backend\\tensorflow_backend.py:4138: The name tf.random_uniform is deprecated. Please use tf.random.uniform instead.\n",
      "\n",
      "W0911 20:45:30.780198 15000 deprecation_wrapper.py:119] From C:\\Users\\Bigtongue\\Anaconda3\\lib\\site-packages\\keras\\optimizers.py:790: The name tf.train.Optimizer is deprecated. Please use tf.compat.v1.train.Optimizer instead.\n",
      "\n"
     ]
    }
   ],
   "source": [
    "model = Sequential()\n",
    "# input_shape(timestep,dim)\n",
    "model.add(LSTM(50, input_shape=(train_X.shape[1], train_X.shape[2])))\n",
    "# model.add(Dropout(0.2))\n",
    "\n",
    "# model.add(LSTM(units = 50, return_sequences=True))\n",
    "# model.add(Dropout(0.2))\n",
    "\n",
    "# model.add(LSTM(units = 50, return_sequences=True))\n",
    "# model.add(Dropout(0.2))\n",
    "\n",
    "# model.add(LSTM(units = 50))\n",
    "# model.add(Dropout(0.2))\n",
    "\n",
    "model.add(Dense(1))\n",
    "model.compile(loss='mae', optimizer='adam')"
   ]
  },
  {
   "cell_type": "markdown",
   "metadata": {},
   "source": [
    "## 訓練模型"
   ]
  },
  {
   "cell_type": "code",
   "execution_count": 18,
   "metadata": {},
   "outputs": [
    {
     "name": "stderr",
     "output_type": "stream",
     "text": [
      "W0911 20:45:30.991166 15000 deprecation.py:323] From C:\\Users\\Bigtongue\\Anaconda3\\lib\\site-packages\\tensorflow\\python\\ops\\math_grad.py:1250: add_dispatch_support.<locals>.wrapper (from tensorflow.python.ops.array_ops) is deprecated and will be removed in a future version.\n",
      "Instructions for updating:\n",
      "Use tf.where in 2.0, which has the same broadcast rule as np.where\n",
      "W0911 20:45:31.544195 15000 deprecation_wrapper.py:119] From C:\\Users\\Bigtongue\\Anaconda3\\lib\\site-packages\\keras\\backend\\tensorflow_backend.py:986: The name tf.assign_add is deprecated. Please use tf.compat.v1.assign_add instead.\n",
      "\n",
      "W0911 20:45:31.630167 15000 deprecation_wrapper.py:119] From C:\\Users\\Bigtongue\\Anaconda3\\lib\\site-packages\\keras\\backend\\tensorflow_backend.py:973: The name tf.assign is deprecated. Please use tf.compat.v1.assign instead.\n",
      "\n"
     ]
    },
    {
     "name": "stdout",
     "output_type": "stream",
     "text": [
      "Train on 511 samples, validate on 128 samples\n",
      "Epoch 1/100\n",
      " - 2s - loss: 0.1707 - val_loss: 0.1895\n",
      "Epoch 2/100\n",
      " - 0s - loss: 0.1669 - val_loss: 0.1793\n",
      "Epoch 3/100\n",
      " - 0s - loss: 0.1639 - val_loss: 0.1792\n",
      "Epoch 4/100\n",
      " - 0s - loss: 0.1634 - val_loss: 0.1835\n",
      "Epoch 5/100\n",
      " - 0s - loss: 0.1659 - val_loss: 0.1788\n",
      "Epoch 6/100\n",
      " - 0s - loss: 0.1634 - val_loss: 0.1789\n",
      "Epoch 7/100\n",
      " - 0s - loss: 0.1669 - val_loss: 0.1980\n",
      "Epoch 8/100\n",
      " - 0s - loss: 0.1638 - val_loss: 0.1785\n",
      "Epoch 9/100\n",
      " - 0s - loss: 0.1641 - val_loss: 0.1813\n",
      "Epoch 10/100\n",
      " - 0s - loss: 0.1634 - val_loss: 0.1806\n",
      "Epoch 11/100\n",
      " - 0s - loss: 0.1637 - val_loss: 0.1877\n",
      "Epoch 12/100\n",
      " - 0s - loss: 0.1646 - val_loss: 0.1854\n",
      "Epoch 13/100\n",
      " - 0s - loss: 0.1650 - val_loss: 0.1787\n",
      "Epoch 14/100\n",
      " - 0s - loss: 0.1634 - val_loss: 0.1889\n",
      "Epoch 15/100\n",
      " - 0s - loss: 0.1638 - val_loss: 0.1801\n",
      "Epoch 16/100\n",
      " - 0s - loss: 0.1646 - val_loss: 0.1798\n",
      "Epoch 17/100\n",
      " - 0s - loss: 0.1642 - val_loss: 0.1820\n",
      "Epoch 18/100\n",
      " - 0s - loss: 0.1632 - val_loss: 0.1842\n",
      "Epoch 19/100\n",
      " - 0s - loss: 0.1633 - val_loss: 0.1821\n",
      "Epoch 20/100\n",
      " - 0s - loss: 0.1634 - val_loss: 0.1843\n",
      "Epoch 21/100\n",
      " - 0s - loss: 0.1641 - val_loss: 0.1783\n",
      "Epoch 22/100\n",
      " - 0s - loss: 0.1630 - val_loss: 0.1810\n",
      "Epoch 23/100\n",
      " - 0s - loss: 0.1635 - val_loss: 0.1846\n",
      "Epoch 24/100\n",
      " - 0s - loss: 0.1635 - val_loss: 0.1837\n",
      "Epoch 25/100\n",
      " - 0s - loss: 0.1633 - val_loss: 0.1794\n",
      "Epoch 26/100\n",
      " - 0s - loss: 0.1640 - val_loss: 0.1808\n",
      "Epoch 27/100\n",
      " - 0s - loss: 0.1633 - val_loss: 0.1791\n",
      "Epoch 28/100\n",
      " - 0s - loss: 0.1641 - val_loss: 0.1916\n",
      "Epoch 29/100\n",
      " - 1s - loss: 0.1656 - val_loss: 0.1781\n",
      "Epoch 30/100\n",
      " - 0s - loss: 0.1641 - val_loss: 0.1843\n",
      "Epoch 31/100\n",
      " - 0s - loss: 0.1634 - val_loss: 0.1818\n",
      "Epoch 32/100\n",
      " - 0s - loss: 0.1628 - val_loss: 0.1821\n",
      "Epoch 33/100\n",
      " - 0s - loss: 0.1628 - val_loss: 0.1786\n",
      "Epoch 34/100\n",
      " - 0s - loss: 0.1630 - val_loss: 0.1815\n",
      "Epoch 35/100\n",
      " - 0s - loss: 0.1631 - val_loss: 0.1843\n",
      "Epoch 36/100\n",
      " - 0s - loss: 0.1632 - val_loss: 0.1799\n",
      "Epoch 37/100\n",
      " - 0s - loss: 0.1629 - val_loss: 0.1808\n",
      "Epoch 38/100\n",
      " - 0s - loss: 0.1632 - val_loss: 0.1793\n",
      "Epoch 39/100\n",
      " - 0s - loss: 0.1633 - val_loss: 0.1818\n",
      "Epoch 40/100\n",
      " - 0s - loss: 0.1632 - val_loss: 0.1805\n",
      "Epoch 41/100\n",
      " - 0s - loss: 0.1637 - val_loss: 0.1837\n",
      "Epoch 42/100\n",
      " - 0s - loss: 0.1629 - val_loss: 0.1787\n",
      "Epoch 43/100\n",
      " - 0s - loss: 0.1626 - val_loss: 0.1846\n",
      "Epoch 44/100\n",
      " - 0s - loss: 0.1633 - val_loss: 0.1825\n",
      "Epoch 45/100\n",
      " - 0s - loss: 0.1629 - val_loss: 0.1809\n",
      "Epoch 46/100\n",
      " - 0s - loss: 0.1636 - val_loss: 0.1810\n",
      "Epoch 47/100\n",
      " - 0s - loss: 0.1631 - val_loss: 0.1829\n",
      "Epoch 48/100\n",
      " - 0s - loss: 0.1636 - val_loss: 0.1801\n",
      "Epoch 49/100\n",
      " - 0s - loss: 0.1628 - val_loss: 0.1825\n",
      "Epoch 50/100\n",
      " - 0s - loss: 0.1632 - val_loss: 0.1797\n",
      "Epoch 51/100\n",
      " - 0s - loss: 0.1636 - val_loss: 0.1816\n",
      "Epoch 52/100\n",
      " - 0s - loss: 0.1633 - val_loss: 0.1783\n",
      "Epoch 53/100\n",
      " - 0s - loss: 0.1630 - val_loss: 0.1810\n",
      "Epoch 54/100\n",
      " - 0s - loss: 0.1638 - val_loss: 0.1777\n",
      "Epoch 55/100\n",
      " - 0s - loss: 0.1641 - val_loss: 0.1790\n",
      "Epoch 56/100\n",
      " - 0s - loss: 0.1625 - val_loss: 0.1823\n",
      "Epoch 57/100\n",
      " - 0s - loss: 0.1626 - val_loss: 0.1799\n",
      "Epoch 58/100\n",
      " - 0s - loss: 0.1625 - val_loss: 0.1828\n",
      "Epoch 59/100\n",
      " - 0s - loss: 0.1626 - val_loss: 0.1811\n",
      "Epoch 60/100\n",
      " - 0s - loss: 0.1635 - val_loss: 0.1837\n",
      "Epoch 61/100\n",
      " - 0s - loss: 0.1623 - val_loss: 0.1777\n",
      "Epoch 62/100\n",
      " - 0s - loss: 0.1630 - val_loss: 0.1807\n",
      "Epoch 63/100\n",
      " - 0s - loss: 0.1624 - val_loss: 0.1791\n",
      "Epoch 64/100\n",
      " - 0s - loss: 0.1627 - val_loss: 0.1815\n",
      "Epoch 65/100\n",
      " - 0s - loss: 0.1622 - val_loss: 0.1785\n",
      "Epoch 66/100\n",
      " - 0s - loss: 0.1627 - val_loss: 0.1787\n",
      "Epoch 67/100\n",
      " - 0s - loss: 0.1627 - val_loss: 0.1840\n",
      "Epoch 68/100\n",
      " - 0s - loss: 0.1625 - val_loss: 0.1789\n",
      "Epoch 69/100\n",
      " - 1s - loss: 0.1623 - val_loss: 0.1841\n",
      "Epoch 70/100\n",
      " - 1s - loss: 0.1625 - val_loss: 0.1791\n",
      "Epoch 71/100\n",
      " - 0s - loss: 0.1625 - val_loss: 0.1864\n",
      "Epoch 72/100\n",
      " - 0s - loss: 0.1641 - val_loss: 0.1767\n",
      "Epoch 73/100\n",
      " - 0s - loss: 0.1649 - val_loss: 0.1909\n",
      "Epoch 74/100\n",
      " - 0s - loss: 0.1625 - val_loss: 0.1773\n",
      "Epoch 75/100\n",
      " - 0s - loss: 0.1628 - val_loss: 0.1807\n",
      "Epoch 76/100\n",
      " - 0s - loss: 0.1620 - val_loss: 0.1795\n",
      "Epoch 77/100\n",
      " - 0s - loss: 0.1628 - val_loss: 0.1785\n",
      "Epoch 78/100\n",
      " - 0s - loss: 0.1620 - val_loss: 0.1817\n",
      "Epoch 79/100\n",
      " - 0s - loss: 0.1621 - val_loss: 0.1798\n",
      "Epoch 80/100\n",
      " - 0s - loss: 0.1623 - val_loss: 0.1807\n",
      "Epoch 81/100\n",
      " - 0s - loss: 0.1633 - val_loss: 0.1836\n",
      "Epoch 82/100\n",
      " - 0s - loss: 0.1625 - val_loss: 0.1818\n",
      "Epoch 83/100\n",
      " - 0s - loss: 0.1628 - val_loss: 0.1824\n",
      "Epoch 84/100\n",
      " - 0s - loss: 0.1647 - val_loss: 0.1778\n",
      "Epoch 85/100\n",
      " - 0s - loss: 0.1631 - val_loss: 0.1836\n",
      "Epoch 86/100\n",
      " - 0s - loss: 0.1627 - val_loss: 0.1801\n",
      "Epoch 87/100\n",
      " - 0s - loss: 0.1628 - val_loss: 0.1782\n",
      "Epoch 88/100\n",
      " - 0s - loss: 0.1619 - val_loss: 0.1802\n",
      "Epoch 89/100\n",
      " - 0s - loss: 0.1632 - val_loss: 0.1765\n",
      "Epoch 90/100\n",
      " - 0s - loss: 0.1632 - val_loss: 0.1806\n",
      "Epoch 91/100\n",
      " - 0s - loss: 0.1623 - val_loss: 0.1803\n",
      "Epoch 92/100\n",
      " - 0s - loss: 0.1618 - val_loss: 0.1796\n",
      "Epoch 93/100\n",
      " - 0s - loss: 0.1616 - val_loss: 0.1802\n",
      "Epoch 94/100\n",
      " - 0s - loss: 0.1615 - val_loss: 0.1794\n",
      "Epoch 95/100\n",
      " - 0s - loss: 0.1617 - val_loss: 0.1785\n",
      "Epoch 96/100\n",
      " - 0s - loss: 0.1619 - val_loss: 0.1800\n",
      "Epoch 97/100\n",
      " - 0s - loss: 0.1618 - val_loss: 0.1782\n",
      "Epoch 98/100\n",
      " - 0s - loss: 0.1622 - val_loss: 0.1806\n",
      "Epoch 99/100\n",
      " - 0s - loss: 0.1625 - val_loss: 0.1808\n",
      "Epoch 100/100\n",
      " - 0s - loss: 0.1610 - val_loss: 0.1792\n"
     ]
    }
   ],
   "source": [
    "history = model.fit(train_X, train_y, epochs=100, batch_size=32, validation_data=(test_X, test_y), verbose=2)"
   ]
  },
  {
   "cell_type": "code",
   "execution_count": 19,
   "metadata": {},
   "outputs": [
    {
     "data": {
      "image/png": "[encoded data removed]",
      "text/plain": [
       "<Figure size 432x288 with 1 Axes>"
      ]
     },
     "metadata": {
      "needs_background": "light"
     },
     "output_type": "display_data"
    }
   ],
   "source": [
    "# plot history\n",
    "plt.plot(history.history['loss'], label='train')\n",
    "plt.plot(history.history['val_loss'], label='test')\n",
    "plt.legend()\n",
    "plt.show()"
   ]
  },
  {
   "cell_type": "markdown",
   "metadata": {},
   "source": [
    "模型表現不佳"
   ]
  },
  {
   "cell_type": "code",
   "execution_count": 20,
   "metadata": {
    "colab": {
     "base_uri": "https://localhost:8080/",
     "height": 238
    },
    "colab_type": "code",
    "executionInfo": {
     "elapsed": 608,
     "status": "ok",
     "timestamp": 1568101737055,
     "user": {
      "displayName": "洪政緯",
      "photoUrl": "https://lh3.googleusercontent.com/a-/AAuE7mBNx-7UCEMQP_ghX8wFGiCe141Wxvu86hDIulkC0w=s64",
      "userId": "06577521540559748619"
     },
     "user_tz": -480
    },
    "id": "yLCF2qqPFock",
    "outputId": "5515fa9a-d908-4bcd-9d66-e42b91c7a789"
   },
   "outputs": [
    {
     "name": "stdout",
     "output_type": "stream",
     "text": [
      "_________________________________________________________________\n",
      "Layer (type)                 Output Shape              Param #   \n",
      "=================================================================\n",
      "lstm_1 (LSTM)                (None, 50)                11400     \n",
      "_________________________________________________________________\n",
      "dense_1 (Dense)              (None, 1)                 51        \n",
      "=================================================================\n",
      "Total params: 11,451\n",
      "Trainable params: 11,451\n",
      "Non-trainable params: 0\n",
      "_________________________________________________________________\n",
      "None\n"
     ]
    }
   ],
   "source": [
    "print(model.summary())"
   ]
  },
  {
   "cell_type": "code",
   "execution_count": 21,
   "metadata": {
    "colab": {
     "base_uri": "https://localhost:8080/",
     "height": 34
    },
    "colab_type": "code",
    "executionInfo": {
     "elapsed": 2130,
     "status": "ok",
     "timestamp": 1568101740189,
     "user": {
      "displayName": "洪政緯",
      "photoUrl": "https://lh3.googleusercontent.com/a-/AAuE7mBNx-7UCEMQP_ghX8wFGiCe141Wxvu86hDIulkC0w=s64",
      "userId": "06577521540559748619"
     },
     "user_tz": -480
    },
    "id": "HYmWrEqR_kK2",
    "outputId": "a82854bf-0bce-493d-f9d0-7ea41f7f9e1d"
   },
   "outputs": [
    {
     "name": "stdout",
     "output_type": "stream",
     "text": [
      "Test RMSE: 0.227\n"
     ]
    }
   ],
   "source": [
    "from sklearn.metrics import mean_squared_error\n",
    "predict_y = model.predict(test_X)\n",
    "test_y = test_y.reshape((len(test_y), 1))\n",
    "# calculate RMSE\n",
    "import math\n",
    "rmse = math.sqrt(mean_squared_error(test_y, predict_y))\n",
    "print('Test RMSE: %.3f' % rmse)"
   ]
  },
  {
   "cell_type": "code",
   "execution_count": 22,
   "metadata": {},
   "outputs": [
    {
     "data": {
      "text/plain": [
       "array([[ 0.09110454],\n",
       "       [ 0.0622227 ],\n",
       "       [ 0.04507317],\n",
       "       [ 0.06501195],\n",
       "       [ 0.0831067 ],\n",
       "       [ 0.06178121],\n",
       "       [ 0.07034807],\n",
       "       [ 0.07447404],\n",
       "       [ 0.07208882],\n",
       "       [ 0.07467674],\n",
       "       [ 0.07939738],\n",
       "       [ 0.09957454],\n",
       "       [ 0.078901  ],\n",
       "       [ 0.09281091],\n",
       "       [ 0.07974473],\n",
       "       [ 0.06852899],\n",
       "       [ 0.07791153],\n",
       "       [ 0.06105274],\n",
       "       [ 0.05570625],\n",
       "       [ 0.04333349],\n",
       "       [ 0.04780322],\n",
       "       [ 0.05897228],\n",
       "       [ 0.0705906 ],\n",
       "       [ 0.06303617],\n",
       "       [ 0.05299675],\n",
       "       [ 0.06608231],\n",
       "       [ 0.06823085],\n",
       "       [ 0.06482244],\n",
       "       [ 0.07221761],\n",
       "       [ 0.06087489],\n",
       "       [ 0.06264368],\n",
       "       [ 0.05056296],\n",
       "       [ 0.05504162],\n",
       "       [ 0.08523478],\n",
       "       [ 0.01384543],\n",
       "       [ 0.01253507],\n",
       "       [ 0.01230385],\n",
       "       [-0.01090782],\n",
       "       [ 0.07251409],\n",
       "       [ 0.01276653],\n",
       "       [ 0.05128806],\n",
       "       [ 0.06653686],\n",
       "       [ 0.04850001],\n",
       "       [ 0.09167673],\n",
       "       [ 0.07707237],\n",
       "       [ 0.06011386],\n",
       "       [ 0.08178254],\n",
       "       [ 0.11430416],\n",
       "       [ 0.10634321],\n",
       "       [ 0.13401617],\n",
       "       [ 0.06677078],\n",
       "       [ 0.16934523],\n",
       "       [ 0.09543812],\n",
       "       [ 0.13990429],\n",
       "       [ 0.13322787],\n",
       "       [ 0.13922296],\n",
       "       [ 0.12249443],\n",
       "       [ 0.11091058],\n",
       "       [ 0.09923182],\n",
       "       [ 0.11176912],\n",
       "       [ 0.10016868],\n",
       "       [ 0.1114626 ],\n",
       "       [ 0.0932998 ],\n",
       "       [ 0.09089917],\n",
       "       [ 0.09196544],\n",
       "       [ 0.106904  ],\n",
       "       [ 0.11751983],\n",
       "       [ 0.11715168],\n",
       "       [ 0.07215869],\n",
       "       [ 0.06336441],\n",
       "       [ 0.07863779],\n",
       "       [ 0.07383561],\n",
       "       [ 0.10198648],\n",
       "       [ 0.08393187],\n",
       "       [ 0.09950973],\n",
       "       [ 0.0525622 ],\n",
       "       [ 0.08300161],\n",
       "       [ 0.07862961],\n",
       "       [ 0.07185485],\n",
       "       [ 0.0969158 ],\n",
       "       [ 0.06730997],\n",
       "       [ 0.0810219 ],\n",
       "       [ 0.09364173],\n",
       "       [ 0.09148336],\n",
       "       [ 0.07825902],\n",
       "       [ 0.07029643],\n",
       "       [ 0.06188148],\n",
       "       [ 0.05689068],\n",
       "       [ 0.06268272],\n",
       "       [ 0.09122647],\n",
       "       [ 0.07068632],\n",
       "       [ 0.08111146],\n",
       "       [ 0.04929657],\n",
       "       [ 0.05659702],\n",
       "       [ 0.04657392],\n",
       "       [ 0.06252293],\n",
       "       [ 0.0708513 ],\n",
       "       [ 0.06744809],\n",
       "       [ 0.05951208],\n",
       "       [ 0.03874858],\n",
       "       [ 0.04413116],\n",
       "       [ 0.05871559],\n",
       "       [ 0.05768304],\n",
       "       [ 0.01168413],\n",
       "       [ 0.03953356],\n",
       "       [ 0.0291356 ],\n",
       "       [ 0.08698156],\n",
       "       [ 0.10748221],\n",
       "       [ 0.07008278],\n",
       "       [ 0.0897122 ],\n",
       "       [ 0.07461491],\n",
       "       [ 0.07670262],\n",
       "       [ 0.07578898],\n",
       "       [ 0.08097886],\n",
       "       [ 0.08776268],\n",
       "       [ 0.0857208 ],\n",
       "       [ 0.10773495],\n",
       "       [ 0.07530158],\n",
       "       [ 0.06452651],\n",
       "       [ 0.06128873],\n",
       "       [ 0.05708595],\n",
       "       [ 0.06126945],\n",
       "       [ 0.07426295],\n",
       "       [ 0.04516472],\n",
       "       [ 0.05735362],\n",
       "       [ 0.05687025],\n",
       "       [ 0.05067438],\n",
       "       [ 0.0725674 ]], dtype=float32)"
      ]
     },
     "execution_count": 22,
     "metadata": {},
     "output_type": "execute_result"
    }
   ],
   "source": [
    "predict_y"
   ]
  },
  {
   "cell_type": "code",
   "execution_count": 23,
   "metadata": {
    "colab": {
     "base_uri": "https://localhost:8080/",
     "height": 295
    },
    "colab_type": "code",
    "executionInfo": {
     "elapsed": 1521,
     "status": "ok",
     "timestamp": 1568101742462,
     "user": {
      "displayName": "洪政緯",
      "photoUrl": "https://lh3.googleusercontent.com/a-/AAuE7mBNx-7UCEMQP_ghX8wFGiCe141Wxvu86hDIulkC0w=s64",
      "userId": "06577521540559748619"
     },
     "user_tz": -480
    },
    "id": "3uZxZZrl8BNC",
    "outputId": "f397c33c-20a9-48f7-c688-70d7e90c871b"
   },
   "outputs": [
    {
     "data": {
      "image/png": "[encoded data removed]",
      "text/plain": [
       "<Figure size 432x288 with 1 Axes>"
      ]
     },
     "metadata": {
      "needs_background": "light"
     },
     "output_type": "display_data"
    }
   ],
   "source": [
    "# Visualising the results\n",
    "plt.plot(test_y, color = 'red', label = 'Real Stock Percentage Change')  # 紅線表示真實波動\n",
    "plt.plot(predict_y, color = 'blue', label = 'Predicted Stock Percentage Change')  # 藍線表示預測波動\n",
    "plt.title('TSMC Stock Percentage Change Prediction')\n",
    "plt.xlabel('Time')\n",
    "plt.ylabel('TSMC Stock Percentage Change')\n",
    "plt.legend()\n",
    "plt.show()"
   ]
  },
  {
   "cell_type": "markdown",
   "metadata": {},
   "source": [
    "## 預測明天漲幅"
   ]
  },
  {
   "cell_type": "code",
   "execution_count": 24,
   "metadata": {
    "colab": {
     "base_uri": "https://localhost:8080/",
     "height": 34
    },
    "colab_type": "code",
    "executionInfo": {
     "elapsed": 578,
     "status": "ok",
     "timestamp": 1568102889509,
     "user": {
      "displayName": "洪政緯",
      "photoUrl": "https://lh3.googleusercontent.com/a-/AAuE7mBNx-7UCEMQP_ghX8wFGiCe141Wxvu86hDIulkC0w=s64",
      "userId": "06577521540559748619"
     },
     "user_tz": -480
    },
    "id": "CFPSulahLSlC",
    "outputId": "9aca6cd6-20de-4477-8de0-ca99c64a13b6"
   },
   "outputs": [
    {
     "ename": "ValueError",
     "evalue": "Expected 2D array, got scalar array instead:\narray=0.06010238081216812.\nReshape your data either using array.reshape(-1, 1) if your data has a single feature or array.reshape(1, -1) if it contains a single sample.",
     "output_type": "error",
     "traceback": [
      "\u001b[1;31m---------------------------------------------------------------------------\u001b[0m",
      "\u001b[1;31mValueError\u001b[0m                                Traceback (most recent call last)",
      "\u001b[1;32m<ipython-input-24-fc3d088c73c1>\u001b[0m in \u001b[0;36m<module>\u001b[1;34m\u001b[0m\n\u001b[0;32m      2\u001b[0m \u001b[0mfuture_test\u001b[0m \u001b[1;33m=\u001b[0m \u001b[0msupervised_data_future\u001b[0m\u001b[1;33m.\u001b[0m\u001b[0miloc\u001b[0m\u001b[1;33m[\u001b[0m\u001b[1;33m:\u001b[0m\u001b[1;33m,\u001b[0m\u001b[1;36m6\u001b[0m\u001b[1;33m:\u001b[0m\u001b[1;33m]\u001b[0m\u001b[1;33m.\u001b[0m\u001b[0mvalues\u001b[0m\u001b[1;33m.\u001b[0m\u001b[0mreshape\u001b[0m\u001b[1;33m(\u001b[0m\u001b[1;36m1\u001b[0m\u001b[1;33m,\u001b[0m\u001b[0mTIME_STEP\u001b[0m\u001b[1;33m,\u001b[0m\u001b[1;36m6\u001b[0m\u001b[1;33m)\u001b[0m\u001b[1;33m\u001b[0m\u001b[1;33m\u001b[0m\u001b[0m\n\u001b[0;32m      3\u001b[0m \u001b[0myhat\u001b[0m \u001b[1;33m=\u001b[0m \u001b[0mmodel\u001b[0m\u001b[1;33m.\u001b[0m\u001b[0mpredict\u001b[0m\u001b[1;33m(\u001b[0m\u001b[0mfuture_test\u001b[0m\u001b[1;33m)\u001b[0m\u001b[1;33m\u001b[0m\u001b[1;33m\u001b[0m\u001b[0m\n\u001b[1;32m----> 4\u001b[1;33m \u001b[0mprint\u001b[0m\u001b[1;33m(\u001b[0m\u001b[1;34mf'預估{STOCK_NO}下個交易日漲幅為:{sc_percentage.inverse_transform(yhat[0][0])}'\u001b[0m\u001b[1;33m)\u001b[0m\u001b[1;33m\u001b[0m\u001b[1;33m\u001b[0m\u001b[0m\n\u001b[0m",
      "\u001b[1;32m~\\Anaconda3\\lib\\site-packages\\sklearn\\preprocessing\\data.py\u001b[0m in \u001b[0;36minverse_transform\u001b[1;34m(self, X)\u001b[0m\n\u001b[0;32m    402\u001b[0m \u001b[1;33m\u001b[0m\u001b[0m\n\u001b[0;32m    403\u001b[0m         X = check_array(X, copy=self.copy, dtype=FLOAT_DTYPES,\n\u001b[1;32m--> 404\u001b[1;33m                         force_all_finite=\"allow-nan\")\n\u001b[0m\u001b[0;32m    405\u001b[0m \u001b[1;33m\u001b[0m\u001b[0m\n\u001b[0;32m    406\u001b[0m         \u001b[0mX\u001b[0m \u001b[1;33m-=\u001b[0m \u001b[0mself\u001b[0m\u001b[1;33m.\u001b[0m\u001b[0mmin_\u001b[0m\u001b[1;33m\u001b[0m\u001b[1;33m\u001b[0m\u001b[0m\n",
      "\u001b[1;32m~\\Anaconda3\\lib\\site-packages\\sklearn\\utils\\validation.py\u001b[0m in \u001b[0;36mcheck_array\u001b[1;34m(array, accept_sparse, accept_large_sparse, dtype, order, copy, force_all_finite, ensure_2d, allow_nd, ensure_min_samples, ensure_min_features, warn_on_dtype, estimator)\u001b[0m\n\u001b[0;32m    512\u001b[0m                     \u001b[1;34m\"Reshape your data either using array.reshape(-1, 1) if \"\u001b[0m\u001b[1;33m\u001b[0m\u001b[1;33m\u001b[0m\u001b[0m\n\u001b[0;32m    513\u001b[0m                     \u001b[1;34m\"your data has a single feature or array.reshape(1, -1) \"\u001b[0m\u001b[1;33m\u001b[0m\u001b[1;33m\u001b[0m\u001b[0m\n\u001b[1;32m--> 514\u001b[1;33m                     \"if it contains a single sample.\".format(array))\n\u001b[0m\u001b[0;32m    515\u001b[0m             \u001b[1;31m# If input is 1D raise error\u001b[0m\u001b[1;33m\u001b[0m\u001b[1;33m\u001b[0m\u001b[1;33m\u001b[0m\u001b[0m\n\u001b[0;32m    516\u001b[0m             \u001b[1;32mif\u001b[0m \u001b[0marray\u001b[0m\u001b[1;33m.\u001b[0m\u001b[0mndim\u001b[0m \u001b[1;33m==\u001b[0m \u001b[1;36m1\u001b[0m\u001b[1;33m:\u001b[0m\u001b[1;33m\u001b[0m\u001b[1;33m\u001b[0m\u001b[0m\n",
      "\u001b[1;31mValueError\u001b[0m: Expected 2D array, got scalar array instead:\narray=0.06010238081216812.\nReshape your data either using array.reshape(-1, 1) if your data has a single feature or array.reshape(1, -1) if it contains a single sample."
     ]
    }
   ],
   "source": [
    "supervised_data_future = supervised_data_all_columns.iloc[-1:,:]\n",
    "future_test = supervised_data_future.iloc[:,6:].values.reshape(1,TIME_STEP,6)\n",
    "yhat = model.predict(future_test)\n",
    "print(f'預估{STOCK_NO}下個交易日漲幅為:{sc_percentage.inverse_transform(yhat[0][0])}')"
   ]
  }
 ],
 "metadata": {
  "accelerator": "GPU",
  "colab": {
   "collapsed_sections": [],
   "name": "lstm_stock_predict.ipynb",
   "provenance": [],
   "version": "0.3.2"
  },
  "kernelspec": {
   "display_name": "Python 3",
   "language": "python",
   "name": "python3"
  },
  "language_info": {
   "codemirror_mode": {
    "name": "ipython",
    "version": 3
   },
   "file_extension": ".py",
   "mimetype": "text/x-python",
   "name": "python",
   "nbconvert_exporter": "python",
   "pygments_lexer": "ipython3",
   "version": "3.7.3"
  }
 },
 "nbformat": 4,
 "nbformat_minor": 4
}
